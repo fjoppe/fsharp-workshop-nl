{
 "metadata": {
  "kernelspec": {
   "display_name": ".NET (F#)",
   "language": "F#",
   "name": ".net-fsharp"
  },
  "language_info": {
   "name": "F#"
  }
 },
 "cells": [
  {
   "cell_type": "markdown",
   "source": [
    "# 03 - .Net Interactive Notebook \n",
    "\n",
    "Dit is een .Net Interactive Notebook in FSharp. Kwa idee is dit sterk gebaseerd op *Jupyter Notebook*, maar helemaal gericht op .Net programmeren.\n",
    "\n",
    "## Hoe werkt een .Net Interactive Notebook\n",
    "Je kunt code-cells en markdown-cells maken. De code cells kun je uitvoeren door met de muis links van \n",
    "de code-cell te hoveren, en te klikken op een driehoekig play-button te klikken. Als je met de muis \n",
    "hovert tussen de horizontale ruimte tussen twee cells, dan kun je een nieuw code- of markdown blokje toevoegen.\n",
    "\n",
    "Je kunt ook bovenaan op ``Run All`` klikken, maar voor de workshop is een laag tempo beter, en kun je het beter cell-voor-cell uitvoeren.\n",
    "Als je opnieuw wilt beginnen, kun je ``Clear Outputs`` klikken.\n",
    "\n",
    "## In deze workshop\n",
    "We doorlopen hier een korte demonstratie van hoe FSharp gebruikt kan worden voor Data-Analyse.\n",
    "\n",
    "Hierbij laten we sterk zien, de rol van **Type Providers**. Dit zijn libraries die on-the-fly types kunnen genereren, die een bepaalde input\n",
    "modelleren. Bij een Database wordt het schema omgezet in types, en kan zo de data uitgelezen worden. \n",
    "Met CSV en JSON type providers (niet in deze workshop) worden de types bepaald op basis van sample data en [type inference](https://en.wikipedia.org/wiki/Type_inference). \n",
    "\n",
    "Het extra wat deze Notebook biedt is de integratie van code, markdown en grafische visualisatie. Type Providers zijn ook beschikbaar in de Fsharp interactive en gecompileerde code."
   ],
   "metadata": {}
  },
  {
   "cell_type": "code",
   "execution_count": null,
   "source": [
    "#r \"nuget: FSharp.Data, 4.2.3\"\n",
    "#r \"nuget: Plotly.NET, 2.0.0-preview.9\"\n",
    "#r \"nuget: Plotly.NET.Interactive, 2.0.0-preview.9\"\n",
    "#r \"nuget: SQLProvider, 1.2.9\"\n",
    "\n",
    "open FSharp.Data.Sql\n",
    "open Plotly.NET\n",
    "open Plotly.NET.Interactive\n",
    "open FSharp.Data"
   ],
   "outputs": [],
   "metadata": {
    "dotnet_interactive": {
     "language": "fsharp"
    }
   }
  },
  {
   "cell_type": "markdown",
   "source": [
    "## World Bank Type Provider\n",
    "\n",
    "Een FSharp Type Provider is een adapter op data, uit verschillende bronnen, waarvan on-the-fly \n",
    "de data-types worden gecreeerd. \n",
    "\n",
    "De World Bank Provider is een voorgebakken Type Provider voor Demo's en workshops, de hele api-interface zit er al in.\n",
    "\n",
    "We beginnen hiermee dan ook mee wegens de eenvoudige demonstratie. "
   ],
   "metadata": {}
  },
  {
   "cell_type": "code",
   "execution_count": null,
   "source": [
    "let wb = WorldBankData.GetDataContext()\n",
    "\n",
    "wb\n",
    "  .Countries.Netherlands\n",
    "  .Indicators.``Gross capital formation (% of GDP)``\n",
    "|> Seq.maxBy fst\n"
   ],
   "outputs": [],
   "metadata": {
    "dotnet_interactive": {
     "language": "fsharp"
    }
   }
  },
  {
   "cell_type": "markdown",
   "source": [
    "In het volgende stukje code worden verschillende data-bronnen parallel opgehaald met Async. Je kunt Async ook voor andere toepassingen gebruiken."
   ],
   "metadata": {}
  },
  {
   "cell_type": "code",
   "execution_count": null,
   "source": [
    "let countries =\n",
    " [| \n",
    "    wb.Countries.Brazil\n",
    "    wb.Countries.Canada\n",
    "    wb.Countries.France\n",
    "    wb.Countries.Greece\n",
    "    wb.Countries.``Low income``\n",
    "    wb.Countries.``High income``\n",
    "    wb.Countries.``United Kingdom``\n",
    "    wb.Countries.``United States`` |]\n",
    "\n",
    "let gcf =\n",
    "    [ for c in countries ->\n",
    "        async { return c, c.Indicators.``Gross capital formation (% of GDP)`` } ]\n",
    "    |> Async.Parallel\n",
    "    |> Async.RunSynchronously\n",
    "    |> List.ofArray\n",
    "    |> List.map(fun (c, ind) -> c.Name, ind.Values |> List.ofSeq |> List.sum)\n",
    "\n",
    "Chart.Column (gcf |> List.map snd, gcf |> List.map fst)\n",
    "|> Chart.withTitle \"World Bank\"\n",
    "|> Chart.withXAxisStyle (\"Staat\", ShowGrid=false)\n",
    "|> Chart.withYAxisStyle (\"Gross capital formation (% of GDP)\", ShowGrid=false)"
   ],
   "outputs": [],
   "metadata": {
    "dotnet_interactive": {
     "language": "fsharp"
    }
   }
  },
  {
   "cell_type": "markdown",
   "source": [
    "## SQL Server Type Provider\n",
    "\n",
    "Hieronder wordt een demonstratie gegeven van een SQL Server Type Provider.\n",
    "\n",
    "Bij het verbinden naar een database, wordt het schema naar data-types vertaald,\n",
    "en deze zijn direct beschikbaar, zonder compilatie stap.\n",
    "\n",
    "Ter voorbereiding, doe het volgende:\n",
    "- Zorg ervoor dat je de laatste versie hebt van Docker Desktop\n",
    "- Open Docker Desktop (dashboard) op tabblad \"Containers/Apps\"\n",
    "- Open de CLI van de Sql Server Container (via het icoontje)\n",
    "- Voer het volgende commande uit in het CLI-window: ./entrypoint\n",
    "\n",
    "Bovenstaande stappen initialiseert database \"Northwind\". Nota bene - deze initialisatie is nodig iedere keer als je de container opnieuw opstart, dus ook als je VS Code opnieuw opstart."
   ],
   "metadata": {}
  },
  {
   "cell_type": "markdown",
   "source": [
    "Hieronder wordt een verbinding gemaakt met SQL Server, die in een andere container draait."
   ],
   "metadata": {}
  },
  {
   "cell_type": "code",
   "execution_count": null,
   "source": [
    "let [<Literal>] connectionString = \"Server=sqlserver,1433;Database=Northwind;User Id=sa;Password=SQLServer2017\"\n",
    "type sql = SqlDataProvider< \n",
    "              ConnectionString = connectionString,\n",
    "              DatabaseVendor = Common.DatabaseProviderTypes.MSSQLSERVER,\n",
    "              IndividualsAmount = 1000,\n",
    "              UseOptionTypes = true >\n",
    "              "
   ],
   "outputs": [],
   "metadata": {
    "dotnet_interactive": {
     "language": "fsharp"
    }
   }
  },
  {
   "cell_type": "code",
   "execution_count": null,
   "source": [
    "let ctx = sql.GetDataContext()"
   ],
   "outputs": [],
   "metadata": {
    "dotnet_interactive": {
     "language": "fsharp"
    }
   }
  },
  {
   "cell_type": "markdown",
   "source": [
    "Vanaf dit punt kun je bij de database objecten via:\n",
    "ctx.Dbd. + druk op Ctrl+Enter\n",
    "\n",
    "Probeer dit eens in een nieuw code-blok."
   ],
   "metadata": {}
  },
  {
   "cell_type": "code",
   "execution_count": null,
   "source": [
    "//  data ophalen uit de DB en printen\n",
    "ctx.Dbo.Categories\n",
    "|>  List.ofSeq\n",
    "|>  List.take 5\n",
    "|>  List.iter(fun i -> \n",
    "    match i.Description with\n",
    "    |   Some d -> printfn \"%s\" d\n",
    "    |   None -> printfn \"<leeg>\"\n",
    "    )"
   ],
   "outputs": [],
   "metadata": {
    "dotnet_interactive": {
     "language": "fsharp"
    }
   }
  },
  {
   "cell_type": "markdown",
   "source": [
    "Onderstaande leest de Customer tabel, groepeert het aantal per (bekende) Staat, en maakt hiervan een grafiek."
   ],
   "metadata": {}
  },
  {
   "cell_type": "code",
   "execution_count": null,
   "source": [
    "let data = \n",
    "    ctx.Dbo.Customers\n",
    "    |>  List.ofSeq\n",
    "    |>  List.groupBy(fun rc -> rc.Region)\n",
    "    |>  List.map(fun (go, rs) -> go, rs.Length)\n",
    "    |>  List.map(fun (go, rs) -> go |> Option.map(fun g -> g, rs))\n",
    "    |>  List.choose id\n",
    "\n",
    "let keys = data |> List.map fst\n",
    "let values = data |> List.map snd\n",
    "\n",
    "Chart.Column (values, keys)\n",
    "|> Chart.withTitle \"Aantal customers per Staat\"\n",
    "|> Chart.withXAxisStyle (\"Staat\", ShowGrid=false)\n",
    "|> Chart.withYAxisStyle (\"Aantal Customers\", ShowGrid=false)"
   ],
   "outputs": [],
   "metadata": {
    "dotnet_interactive": {
     "language": "fsharp"
    }
   }
  }
 ],
 "nbformat": 4,
 "nbformat_minor": 2
}